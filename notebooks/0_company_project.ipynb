{
 "cells": [
  {
   "cell_type": "markdown",
   "id": "bea25260-6170-4ab6-949a-99934c8dab1e",
   "metadata": {},
   "source": [
    "# ML cube Platform SDK - First Setup\n",
    "\n",
    "In this notebook, we'll guide you through setting up your account on the ML Cube Platform.\n",
    "Once your account is created, the first step is to set up your `Company`. Next, you can add new `Users`, either for your team members or for service accounts that will integrate into your MLOps pipeline.\n",
    "\n",
    "Afterward, you can create a `Project` and assign specific roles to your team members in order to define the appropriate level of security and access.\n",
    "\n",
    "**Requirements**:\n",
    "\n",
    "A valid API Key provided by ML cube\n",
    "\n",
    "**User Input**\n",
    "\n",
    "You will need to provide some values for variables and names to ensure the notebook runs correctly. Whenever you see the comment `# TO COMPLETE`, make sure to fill the empty string accordingly.\n"
   ]
  },
  {
   "cell_type": "code",
   "execution_count": null,
   "id": "2c4efb30-be1a-4606-885b-5dbf789419bb",
   "metadata": {},
   "outputs": [],
   "source": [
    "import logging\n",
    "logger = logging.getLogger(\"platform_tutorial\")"
   ]
  },
  {
   "cell_type": "code",
   "execution_count": null,
   "id": "7004140c-abb4-424a-a348-46c9e2658a70",
   "metadata": {},
   "outputs": [],
   "source": [
    "from ml3_platform_sdk.client import ML3PlatformClient\n",
    "from ml3_platform_sdk import enums as ml3_enums"
   ]
  },
  {
   "cell_type": "markdown",
   "id": "778cb9b6-4499-414e-9f4c-7635032d479d",
   "metadata": {},
   "source": [
    "**Instantiate the Client**\n",
    "\n",
    "To interact with ML cube Platform you need to instantiate the client and use its methods to perform requests.\n",
    "Please, insert the api key we provided you to instantiate the client."
   ]
  },
  {
   "cell_type": "code",
   "execution_count": null,
   "id": "0be17677-b11e-4dcd-8712-bf3f208d4178",
   "metadata": {},
   "outputs": [],
   "source": [
    "API_KEY = \"\"  # TO COMPLETE\n",
    "URL = \"https://api.platform.mlcube.com\"\n",
    "ml3_client = ML3PlatformClient(api_key=API_KEY, url=URL)"
   ]
  },
  {
   "cell_type": "markdown",
   "id": "4c0971b9-24cc-4a06-9b89-af35bc5a0360",
   "metadata": {},
   "source": [
    "**Create Company**\n",
    "\n",
    "The first user inside ML cube Platform does not belong to any Company. \n",
    "Therefore, the first operation is to create the company.\n",
    "\n",
    "The user who creates the company becomes automatically the *owner* and has administration permissions. This allows them to manage users, create projects, and set permissions."
   ]
  },
  {
   "cell_type": "code",
   "execution_count": null,
   "id": "a8362166-50c1-456d-b856-21bc6dca6292",
   "metadata": {},
   "outputs": [],
   "source": [
    "# TO COMPLETE\n",
    "\n",
    "company_id = ml3_client.create_company(\n",
    "    name=\"\", \n",
    "    address=\"\", \n",
    "    vat=\"\"\n",
    ")\n",
    "logger.info(f\"Created the company with id {company_id}.\")"
   ]
  },
  {
   "cell_type": "markdown",
   "id": "517e7298-fd82-4212-92f0-928a849911db",
   "metadata": {},
   "source": [
    "As you can see, the method `create_company` returns the id of the company just created.\n",
    "The ML cube Platform Client follows this approach for every entity, ensuring that you always have the identifier of what you've created. The ID can then be used for any future interaction with the ML cube Platform.\n",
    "\n",
    "Differently from other entities inside ML cube Platform, the company is unique and it cannot be changed for the User. Therefore, any operation you perform at company level does not need its identifier, as we are able to retrieve it directly from the user information."
   ]
  },
  {
   "cell_type": "markdown",
   "id": "f30b1036-cfe4-4775-b427-0d652433be64",
   "metadata": {},
   "source": [
    "**Create User**\n",
    "\n",
    "As the owner of the company, you can create new users for you team. Each user has a `CompanyRole` that specifies its permissions.\n",
    "The user can also have a specific role for each project inside the Company. In the following cells you will see how to do it.\n",
    "\n",
    "Please, complete the fields with the right information and choose the appropriate user role."
   ]
  },
  {
   "cell_type": "code",
   "execution_count": null,
   "id": "e6cc2956-a1bb-4ba7-b646-f018843e9e3a",
   "metadata": {},
   "outputs": [],
   "source": [
    "# TO COMPLETE\n",
    "user_id = ml3_client.create_company_user(\n",
    "    name=\"\",\n",
    "    surname=\"\",\n",
    "    username=\"\",\n",
    "    password=\"\",\n",
    "    email=\"\",\n",
    "    company_role=ml3_enums.UserCompanyRole.COMPANY_USER\n",
    ")\n",
    "logger.info(f\"Created new user with id {user_id}.\")"
   ]
  },
  {
   "cell_type": "markdown",
   "id": "8ddc9470-47ff-4639-90be-4aa561656279",
   "metadata": {},
   "source": [
    "**User API Key**\n",
    "\n",
    "After a User is created, he is able to log in the web application and start working on it.\n",
    "\n",
    "In order to use the SDK, he needs to create his own api key on the web app. Since you are the owner, you can create an api key for him directly here.\n",
    "This is particularly useful when you need to create service accounts that are used in your pipelines."
   ]
  },
  {
   "cell_type": "code",
   "execution_count": null,
   "id": "89b04c1f-0eee-474b-a373-42e62fda60eb",
   "metadata": {},
   "outputs": [],
   "source": [
    "# TO COMPLETE\n",
    "user_api_key = ml3_client.create_user_api_key(\n",
    "    user_id=user_id,\n",
    "    name=\"\",\n",
    "    expiration_time=ml3_enums.ApiKeyExpirationTime.ONE_MONTH\n",
    ")\n",
    "logger.info(f\"Created a new api key for the user {user_id}.\")"
   ]
  },
  {
   "cell_type": "markdown",
   "id": "66a0a499-782d-418e-95f8-4ab36f9ca6f9",
   "metadata": {},
   "source": [
    "If you want to see all the users inside your company you can use the get method:"
   ]
  },
  {
   "cell_type": "code",
   "execution_count": null,
   "id": "55f1a2d3-0e4b-49eb-a866-6c9232675390",
   "metadata": {},
   "outputs": [],
   "source": [
    "users = ml3_client.get_company_users()\n",
    "logger.info(f\"The users in the company are: {users}\")"
   ]
  },
  {
   "cell_type": "markdown",
   "id": "9a36916d-b4a0-4d9c-8302-36b53e0b4062",
   "metadata": {},
   "source": [
    "**Create Project**\n",
    "\n",
    "So far, you created a company and a new user for you colleague with his api key. \n",
    "\n",
    "It's time to create a project and start working on your models.\n",
    "A project needs a name, a description and the default storage policy.\n",
    "You can read more details about what is a StoragePolicy on the ML cube Platform documentation. In a few words, it specifies whether data can be stored inside ML cube Secure Storage or not."
   ]
  },
  {
   "cell_type": "code",
   "execution_count": null,
   "id": "56634c7c-4070-4eb7-bb09-1eb9016de5cd",
   "metadata": {},
   "outputs": [],
   "source": [
    "# TO COMPLETE\n",
    "project_id = ml3_client.create_project(\n",
    "    name=\"\",\n",
    "    description=\"\",\n",
    "    default_storage_policy=ml3_enums.StoragePolicy.MLCUBE\n",
    ")\n",
    "logger.info(f\"New project created with id {project_id}\")"
   ]
  },
  {
   "cell_type": "markdown",
   "id": "49e999f5-679f-4eca-b964-d4b3d060f33d",
   "metadata": {},
   "source": [
    "**User Project Role**\n",
    "\n",
    "Since the user we created before has role `COMPANY_USER`, he does not have permissions on this project.\n",
    "Therefore, you need to explicitly assign a role to him."
   ]
  },
  {
   "cell_type": "code",
   "execution_count": null,
   "id": "b1f3d46b-4c83-4cb8-91ed-94ab674714a6",
   "metadata": {},
   "outputs": [],
   "source": [
    "ml3_client.add_user_project_role(\n",
    "    user_id=user_id,\n",
    "    project_id=project_id,\n",
    "    project_role=ml3_enums.UserProjectRole.PROJECT_ADMIN,\n",
    ")"
   ]
  },
  {
   "cell_type": "markdown",
   "id": "f0e30b84-9fd2-4abe-8a9f-56ca3362e5d4",
   "metadata": {},
   "source": [
    "**Congratulations!**\n",
    "\n",
    "In this notebook, you learned how to create your company, a new user and a project. Since the created user does not have an admin role, you assigned him a project role to allow him to work on the project."
   ]
  }
 ],
 "metadata": {
  "kernelspec": {
   "display_name": "Python 3 (ipykernel)",
   "language": "python",
   "name": "python3"
  },
  "language_info": {
   "codemirror_mode": {
    "name": "ipython",
    "version": 3
   },
   "file_extension": ".py",
   "mimetype": "text/x-python",
   "name": "python",
   "nbconvert_exporter": "python",
   "pygments_lexer": "ipython3",
   "version": "3.8.18"
  }
 },
 "nbformat": 4,
 "nbformat_minor": 5
}
