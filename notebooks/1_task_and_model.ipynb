{
 "cells": [
  {
   "cell_type": "markdown",
   "id": "360e66ac-895d-40dc-b104-d57c7161cc9b",
   "metadata": {},
   "source": [
    "# ML cube Platform SDK - Task and Model creation\n",
    "\n",
    "In this notebook, you will see how to create a Task and how to add a model to start monitoring its performance.\n",
    "\n",
    "**Requirements**:\n",
    "\n",
    "1. API Key of a User with roles `COMPANY_ADMIN` or `PROJECT_ADMIN`\n",
    "2. ID of the project\n",
    "\n",
    "**User Input**\n",
    "\n",
    "You will need to provide some values for variables and names to ensure the notebook runs correctly. Whenever you see the comment `# TO COMPLETE`, make sure to fill the empty string accordingly."
   ]
  },
  {
   "cell_type": "markdown",
   "id": "e93499e5",
   "metadata": {},
   "source": [
    "**Imports**"
   ]
  },
  {
   "metadata": {},
   "cell_type": "code",
   "outputs": [],
   "execution_count": null,
   "source": [
    "import logging\n",
    "logger = logging.getLogger(\"platform_tutorial\")"
   ],
   "id": "ac1dbec9a9146410"
  },
  {
   "metadata": {},
   "cell_type": "code",
   "outputs": [],
   "execution_count": null,
   "source": [
    "from ml3_platform_sdk.client import ML3PlatformClient\n",
    "from ml3_platform_sdk import enums as ml3_enums\n",
    "from ml3_platform_sdk import models as ml3_models"
   ],
   "id": "c8bf440019a4ca24"
  },
  {
   "cell_type": "markdown",
   "id": "26f67a46-cacf-4ca8-b67e-43388566b3c7",
   "metadata": {},
   "source": [
    "**Define entities ids**\n",
    "\n",
    "Specify here the ids of the entities that are required to work on this notebook."
   ]
  },
  {
   "cell_type": "code",
   "execution_count": null,
   "id": "c90c7015-0395-44a7-a850-d296e5e0ce75",
   "metadata": {},
   "outputs": [],
   "source": [
    "# TO COMPLETE\n",
    "project_id = \"\""
   ]
  },
  {
   "cell_type": "markdown",
   "id": "c6588f7a-488c-4d3b-bc57-ec5ddbb0f955",
   "metadata": {},
   "source": [
    "If you don't remember the id of the project you can get the list of your projects:\n",
    "```py\n",
    "projects: List[Project] = client.get_projects()\n",
    "logger.info(f'Projects inside the company are: {projects}')\n",
    "```"
   ]
  },
  {
   "cell_type": "markdown",
   "id": "0c085046-a664-4085-b011-e4ff37d27ca5",
   "metadata": {},
   "source": [
    "**Instantiate the Client**\n",
    "\n",
    "To interact with ML cube Platform, you need to instantiate the client. You will then use its methods to perform requests.\n",
    "Please, insert the api key we provided you to instantiate the client."
   ]
  },
  {
   "cell_type": "code",
   "execution_count": null,
   "id": "d2f07c5b-940b-4273-a349-860920b4d0a8",
   "metadata": {},
   "outputs": [],
   "source": [
    "API_KEY = \"\"  # TO COMPLETE\n",
    "URL = \"https://api.platform.mlcube.com\"\n",
    "ml3_client = ML3PlatformClient(api_key=API_KEY, url=URL)"
   ]
  },
  {
   "cell_type": "markdown",
   "id": "400b1b5c-67e2-48df-98c3-f06420cda3c0",
   "metadata": {},
   "source": [
    "**Create Task**\n",
    "\n",
    "To monitor your models you need to add them in a `Task`. \n",
    "\n",
    "A `Task` represents an AI problem, such as regression or binary classification, over a dataset."
   ]
  },
  {
   "cell_type": "code",
   "execution_count": null,
   "id": "c3c34364-c0bf-4acd-9478-22635a4f4f0d",
   "metadata": {},
   "outputs": [],
   "source": [
    "# TO COMPLETE\n",
    "task_id = ml3_client.create_task(\n",
    "    project_id=project_id,\n",
    "    name=\"my-task\",\n",
    "    tags=['first-task'],\n",
    "    task_type=ml3_enums.TaskType.REGRESSION,\n",
    "    data_structure=ml3_enums.DataStructure.TABULAR,\n",
    "    optional_target=False,\n",
    "    cost_info=ml3_models.RegressionTaskCostInfo(\n",
    "        currency=ml3_enums.Currency.EURO,\n",
    "        overestimation_cost=30.0,\n",
    "        underestimation_cost=20.0,\n",
    "    )\n",
    ")\n",
    "logger.info(f\"Created task with id {task_id}\")"
   ]
  },
  {
   "cell_type": "markdown",
   "id": "b2dfc9ba-2b94-4008-bb4c-863a548c4c83",
   "metadata": {},
   "source": [
    "**Data schema**\n",
    "\n",
    "The data schema defines the structure of the data used in this task.\n",
    "It contains features, target and a set of mandatory metadata required by the ML cube Platform.\n",
    "Each sample must have a `timestamp` and an `identifier`: the timestamp is used to sort your data chronologically and the identifier is used to share information about data without transferring them.\n",
    "\n",
    "The data schema is specified by the class `DataSchema` which can be found in the `models` package of our sdk.\n",
    "In the following cell you can see an example of a DataSchema. As you can notice, the model predictions are not included. The reason is that they will be automatically added when a model is created within the task."
   ]
  },
  {
   "cell_type": "code",
   "execution_count": null,
   "id": "52573e33-85e5-4624-95af-47707790514a",
   "metadata": {},
   "outputs": [],
   "source": [
    "# TO COMPLETE\n",
    "\n",
    "data_schema = ml3_models.DataSchema(\n",
    "    columns=[\n",
    "        # METADATA - SAMPLE ID\n",
    "        ml3_models.ColumnInfo(\n",
    "            name='sample_id',\n",
    "            data_type=ml3_enums.DataType.STRING,\n",
    "            role=ml3_enums.ColumnRole.ID,\n",
    "            is_nullable=False\n",
    "        ),\n",
    "        # METADATA - TIMESTAMP\n",
    "        ml3_models.ColumnInfo(\n",
    "            name='timestamp',\n",
    "            data_type=ml3_enums.DataType.FLOAT,\n",
    "            role=ml3_enums.ColumnRole.TIME_ID,\n",
    "            is_nullable=False\n",
    "        ),\n",
    "        # FEATURE\n",
    "        ml3_models.ColumnInfo(\n",
    "            name='feature_0',\n",
    "            data_type=ml3_enums.DataType.FLOAT,\n",
    "            role=ml3_enums.ColumnRole.INPUT,\n",
    "            is_nullable=False\n",
    "        ),\n",
    "        # TARGET\n",
    "        ml3_models.ColumnInfo(\n",
    "            name='target',\n",
    "            data_type=ml3_enums.DataType.FLOAT,\n",
    "            role=ml3_enums.ColumnRole.TARGET,\n",
    "            is_nullable=False\n",
    "        )\n",
    "    ]\n",
    ")\n",
    "\n",
    "ml3_client.add_data_schema(task_id=task_id, data_schema=data_schema)"
   ]
  },
  {
   "cell_type": "markdown",
   "id": "739cbacf-af4c-45e6-b2d4-f3b354963a66",
   "metadata": {},
   "source": [
    "**Historical data**\n",
    "\n",
    "Now that you have inserted the data schema for your Task you are able to upload data.\n",
    "There are two classes of data: *historical* and *production*.\n",
    "Historical data represent data you had before the model was in production, while production data are those coming from the production environment.\n",
    "The reference data for the model are selected from the historical data by specifying a time range.\n",
    "\n",
    "This is the first time you send data to ML cube Platform, therefore, we have some things to explain:\n",
    "\n",
    "- data are composed of features, targets, predictions. You send each category separately since data can come from multiple sources;\n",
    "- the operation of sending data belong to the category of operations that runs a pipeline inside the ML cube Platform. In this case the pipeline is composed only by the data step that reads the data, validate them and then if the storing policy is MLCUBE it stores inside the ML cube Platform's Secure Storage;\n",
    "- the pipeline is identified by a `job_id` and you can follow the execution status by asking the client its information. Additionally, you can wait for the completion of the job by calling the method `wait_job_completion(job_id)`.\n",
    "\n",
    "In the cell below, we send features using a `LocalDataSource`, since we have the file locally, and we use a `GCSDataSource` for the target because we have it on the cloud.\n",
    "In order to use remote data sources you need to add credentials on the ML cube Platform. You can specify them in the `DataSource` object."
   ]
  },
  {
   "cell_type": "code",
   "execution_count": null,
   "id": "b6367c0c-62fd-4112-990d-c6d0b0df030f",
   "metadata": {},
   "outputs": [],
   "source": [
    "# TO COMPLETE\n",
    "inputs_data_source = ml3_models.LocalDataSource(\n",
    "    file_path=\"path/to/file.csv\",\n",
    "    file_type=ml3_enums.FileType.CSV,\n",
    "    is_folder=False,\n",
    "    folder_type=None\n",
    ")\n",
    "target_data_source = ml3_models.GCSDataSource(\n",
    "    object_path=\"gs://path/to/file.csv\",\n",
    "    credentials_id='gcp_credentials_id',\n",
    "    file_type=ml3_enums.FileType.CSV,\n",
    "    is_folder=False,\n",
    "    folder_type=None\n",
    ")\n",
    "\n",
    "logger.info(f'API - Add historical data')\n",
    "job_id = ml3_client.add_historical_data(\n",
    "    task_id=task_id,\n",
    "    inputs=ml3_models.TabularData(source=inputs_data_source),\n",
    "    target=ml3_models.TabularData(source=target_data_source)\n",
    ")\n",
    "logger.info(f'Job created, id {job_id}')\n",
    "\n",
    "ml3_client.show_jobs()\n",
    "\n",
    "logger.info(f'Waiting job completion')\n",
    "ml3_client.wait_job_completion(job_id=job_id)\n",
    "logger.info(f'Job completed')"
   ]
  },
  {
   "cell_type": "markdown",
   "id": "e0435c12-8a8e-4665-9bce-2d93fc9cef52",
   "metadata": {},
   "source": [
    "**Create Model**\n",
    "\n",
    "After the task is created, you can add AI models inside it.\n",
    "A model is uniquely identified by the pair `name` and `version`.\n",
    "The version identifies a specific trained instance of the model. Whenever you retrain your model, you will update its version on the ML cube Platform.\n",
    "The metric_name field indicates the error or performance metric used in the ML Cube Platform to display the model's performance and it is also included in the retraining report."
   ]
  },
  {
   "cell_type": "code",
   "execution_count": null,
   "id": "f62ffd15-be89-44fc-a7d3-fe5edf844474",
   "metadata": {},
   "outputs": [],
   "source": [
    "# TO COMPLETE\n",
    "model_id = ml3_client.create_model(\n",
    "    task_id=task_id,\n",
    "    name=\"model-name\",\n",
    "    version=\"v0.0.1\",\n",
    "    metric_name=ml3_enums.ModelMetricName.RMSE,\n",
    "    preferred_suggestion_type=ml3_enums.SuggestionType.SAMPLE_WEIGHTS,\n",
    "    with_probabilistic_output=False,\n",
    ")\n",
    "logger.info(f\"Created model with id {model_id}\")"
   ]
  },
  {
   "cell_type": "markdown",
   "id": "c1f46fdf-c628-4397-84e9-175de7831f90",
   "metadata": {},
   "source": [
    "**Model reference**\n",
    "\n",
    "In the previous cell you created the model, but it still misses the training dataset. In the ML cube Platform, the training dataset is called *reference*.\n",
    "You can add the reference data of the model by specifying the time range. The ML cube Platform will automatically select from the previously uploaded data the reference data specified."
   ]
  },
  {
   "cell_type": "code",
   "execution_count": null,
   "id": "26e7a8e1-9cf7-4458-9a23-cdee659c575a",
   "metadata": {},
   "outputs": [],
   "source": [
    "# TO COMPLETE\n",
    "logger.info(f'API - Add model reference')\n",
    "job_id = ml3_client.set_model_reference(\n",
    "    model_id=model_id,\n",
    "    from_timestamp=0.,\n",
    "    to_timestamp=0.,\n",
    ")\n",
    "logger.info(f'Job created, id {job_id}')\n",
    "\n",
    "ml3_client.show_jobs()\n",
    "\n",
    "logger.info(f'Waiting job completion')\n",
    "ml3_client.wait_job_completion(job_id=job_id)\n",
    "logger.info(f'Job completed')"
   ]
  },
  {
   "cell_type": "markdown",
   "id": "7aa5af50-add0-4e8e-8bee-5ff370640ee0",
   "metadata": {},
   "source": [
    "**Congratulations!**\n",
    "\n",
    "In this notebook, you learned how to create a task, add a model to the task, and upload both historical and reference data to the ML Cube Platform."
   ]
  }
 ],
 "metadata": {
  "kernelspec": {
   "display_name": "Python 3 (ipykernel)",
   "language": "python",
   "name": "python3"
  },
  "language_info": {
   "codemirror_mode": {
    "name": "ipython",
    "version": 3
   },
   "file_extension": ".py",
   "mimetype": "text/x-python",
   "name": "python",
   "nbconvert_exporter": "python",
   "pygments_lexer": "ipython3",
   "version": "3.8.18"
  }
 },
 "nbformat": 4,
 "nbformat_minor": 5
}
