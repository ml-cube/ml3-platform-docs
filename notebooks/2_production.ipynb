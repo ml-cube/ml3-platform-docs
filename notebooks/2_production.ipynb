{
 "cells": [
  {
   "cell_type": "markdown",
   "id": "360e66ac-895d-40dc-b104-d57c7161cc9b",
   "metadata": {},
   "source": [
    "# ML cube Platform SDK - Production Routine\n",
    "\n",
    "In this notebook, you will see how to set up a production routine. A production routine is composed of sending production data, check the model status and then ask the retraining report if a drift was detected in the data.\n",
    "\n",
    "**Requirements**:\n",
    "\n",
    "1. API Key with roles `COMPANY_ADMIN` or `PROJECT_ADMIN`\n",
    "2. Id of the task\n",
    "3. Id and version of the model\n",
    "\n",
    "**User Input**\n",
    "\n",
    "You will need to provide some values for variables and names to ensure the notebook runs correctly. Whenever you see the comment `# TO COMPLETE`, make sure to fill the empty string accordingly."
   ]
  },
  {
   "cell_type": "markdown",
   "id": "26f67a46-cacf-4ca8-b67e-43388566b3c7",
   "metadata": {},
   "source": [
    "**Define entities ids**\n",
    "\n",
    "Specify here the ids of the entities that are required to work on this notebook."
   ]
  },
  {
   "cell_type": "code",
   "execution_count": null,
   "id": "c90c7015-0395-44a7-a850-d296e5e0ce75",
   "metadata": {},
   "outputs": [],
   "source": [
    "# TO COMPLETE\n",
    "task_id = \"\"\n",
    "model_id = \"\"\n",
    "model_version = \"\""
   ]
  },
  {
   "cell_type": "markdown",
   "id": "c25ccafe-b8fc-4ec9-9995-719c6bc5511e",
   "metadata": {},
   "source": [
    "**Imports**"
   ]
  },
  {
   "cell_type": "code",
   "execution_count": null,
   "id": "6d261bd8-208c-4678-b589-26d5a015b29e",
   "metadata": {},
   "outputs": [],
   "source": [
    "import logging\n",
    "logger = logging.getLogger(\"platform_tutorial\")"
   ]
  },
  {
   "cell_type": "code",
   "execution_count": null,
   "id": "e8cf5209-869b-4fe4-a639-3fd3ea56c7bc",
   "metadata": {},
   "outputs": [],
   "source": [
    "from ml3_platform_sdk.client import ML3PlatformClient\n",
    "from ml3_platform_sdk import enums as ml3_enums\n",
    "from ml3_platform_sdk import models as ml3_models"
   ]
  },
  {
   "cell_type": "markdown",
   "id": "0c085046-a664-4085-b011-e4ff37d27ca5",
   "metadata": {},
   "source": [
    "**Instantiate the Client**\n",
    "\n",
    "To interact with ML cube Platform, you need to instantiate the client. You will then use its methods to perform requests.\n",
    "Please, insert the api key we provided you to instantiate the client."
   ]
  },
  {
   "cell_type": "code",
   "execution_count": null,
   "id": "d2f07c5b-940b-4273-a349-860920b4d0a8",
   "metadata": {},
   "outputs": [],
   "source": [
    "API_KEY = \"\"  # TO COMPLETE\n",
    "URL = \"https://api.platform.mlcube.com\"\n",
    "ml3_client = ML3PlatformClient(api_key=API_KEY, url=URL)"
   ]
  },
  {
   "cell_type": "markdown",
   "id": "400b1b5c-67e2-48df-98c3-f06420cda3c0",
   "metadata": {},
   "source": [
    "**Create Detection Automation Rule**\n",
    "\n",
    "Production data are analysed by our monitoring algorithms to detect drifts.\n",
    "You can setup automation rules to receives notifications in your desired communication channel and to retrain automatically your model."
   ]
  },
  {
   "cell_type": "code",
   "execution_count": null,
   "id": "6f2c9b3b-c832-421c-aeaa-9cf6b45b4137",
   "metadata": {},
   "outputs": [],
   "source": [
    "# TO COMPLETE\n",
    "rule_id = ml3_client.create_detection_event_rule(\n",
    "    name='rule1',\n",
    "    task_id=task_id,\n",
    "    model_id=model_id,\n",
    "    severity=ml3_enums.DetectionEventSeverity.MEDIUM,\n",
    "    detection_event_type=ml3_enums.DetectionEventType.DRIFT_ON,\n",
    "    monitoring_target=ml3_enums.MonitoringTarget.ERROR,\n",
    "    actions=[\n",
    "        ml3_models.DiscordNotificationAction(webhook='discord_webhook'),\n",
    "        ml3_models.SlackNotificationAction(webhook='slack_webhook', channel='slack_channel'),\n",
    "        ml3_models.RetrainAction()\n",
    "    ],\n",
    ")\n",
    "logger.info(f\"Created event rule with id {rule_id}\")"
   ]
  },
  {
   "cell_type": "markdown",
   "id": "7014c1f1-b155-4014-8152-e4722b6fe2b0",
   "metadata": {},
   "source": [
    "**Add production data**\n",
    "\n",
    "Production data are uploaded to the ML Cube Platform in the same way as historical data\n",
    "However, in this scenario, it is common to have data arrive at different times. For example, your model may receive input data and generate predictions, but the actual targets might only become available after a delay.\n",
    "Therefore, you can upload data as soon as you receive it, rather than all at once, and the ML Cube Platform will begin monitoring as soon as the data is available."
   ]
  },
  {
   "cell_type": "code",
   "execution_count": null,
   "id": "74a2299f-d1ff-488c-99e7-94eaf55cdbf8",
   "metadata": {},
   "outputs": [],
   "source": [
    "# TO COMPLETE\n",
    "job_id = ml3_client.add_production_data(\n",
    "    task_id=task_id,\n",
    "    inputs=ml3_models.TabularData(\n",
    "        source=ml3_models.LocalDataSource(\n",
    "            file_type=ml3_enums.FileType.CSV,\n",
    "            file_path=\"path/to/file.csv\",\n",
    "            is_folder=False,\n",
    "            folder_type=None,\n",
    "        )\n",
    "    ),\n",
    "    target=None,\n",
    "    predictions=[\n",
    "        (\n",
    "            model_id,\n",
    "            ml3_models.TabularData(\n",
    "                source=ml3_models.LocalDataSource(\n",
    "                    file_type=ml3_enums.FileType.CSV,\n",
    "                    file_path=\"path/to/file.csv\",\n",
    "                    is_folder=False,\n",
    "                    folder_type=None,\n",
    "                )\n",
    "            ),\n",
    "        )\n",
    "    ],\n",
    ")\n",
    "logger.info(f'Add production input and predictions data job {job_id}')\n",
    "ml3_client.wait_job_completion(job_id=job_id)\n",
    "logger.info(f'Add production input and predictions data job {job_id} terminated')"
   ]
  },
  {
   "cell_type": "code",
   "execution_count": null,
   "id": "5550cec3-91b5-494c-b639-f844ee58401c",
   "metadata": {},
   "outputs": [],
   "source": [
    "job_id = ml3_client.add_production_data(\n",
    "    task_id=task_id,\n",
    "    inputs=None,\n",
    "    target=ml3_models.TabularData(\n",
    "        source=ml3_models.LocalDataSource(\n",
    "            file_type=ml3_enums.FileType.CSV,\n",
    "            file_path=\"path/to/file.csv\",\n",
    "            is_folder=False,\n",
    "            folder_type=None,\n",
    "        )\n",
    "    ),\n",
    "    predictions=None,\n",
    ")\n",
    "logger.info(f'Add production target data job {job_id} started')\n",
    "ml3_client.wait_job_completion(job_id=job_id)\n",
    "logger.info(f'Add production target data job {job_id} terminated')"
   ]
  },
  {
   "metadata": {},
   "cell_type": "markdown",
   "source": [
    "**Check the batches uploaded**\n",
    "\n",
    "To check the details of each batch uploaded you can use the `get_data_batch_list` method, it will return a list of the data batches uploaded up to this point."
   ],
   "id": "7fd9eb4848887fa1"
  },
  {
   "metadata": {},
   "cell_type": "code",
   "outputs": [],
   "execution_count": null,
   "source": [
    "logger.info(f'Get data batches')\n",
    "data_batches = ml3_client.get_data_batch_list(task_id=task_id)\n",
    "logger.info(f'Number of data batches loaded: {len(data_batches)}')"
   ],
   "id": "b02efed12f9abaac"
  },
  {
   "cell_type": "markdown",
   "id": "3a6ae782-6ec1-4231-83ad-a7bf64808444",
   "metadata": {},
   "source": [
    "**Check model status and ask retraining report**\n",
    "\n",
    "To monitor the status of your model, you can use the `get_monitoring_status` method and specify the monitoring status `ERROR`."
   ]
  },
  {
   "cell_type": "code",
   "execution_count": null,
   "id": "20ef9e88-10d8-4d69-bc9d-680d6893273c",
   "metadata": {},
   "outputs": [],
   "source": [
    "logger.info(f'Read model by id')\n",
    "status = ml3_client.get_monitoring_status(task_id=task_id, monitoring_target=ml3_enums.MonitoringTarget.ERROR)\n",
    "logger.info(f'Status: {status}')"
   ]
  },
  {
   "metadata": {},
   "cell_type": "markdown",
   "source": [
    "When a drift is detected in a certain monitoring target, its status changes from `OK` to `DRIFT`. This is the moment when you really need ML cube Platform!\n",
    "The best action to do is to ask the computation of the retraining report, that contains all the information to handle the drift and retrain your model."
   ],
   "id": "32e6675b4b946c"
  },
  {
   "cell_type": "code",
   "execution_count": null,
   "id": "c685bd5d-b745-4c16-bb49-01138a85fe4f",
   "metadata": {},
   "outputs": [],
   "source": [
    "logger.info(f'Compute retraining report')\n",
    "job_id = ml3_client.compute_retraining_report(model_id=model_id)\n",
    "logger.info(f'Job created, id {job_id}')\n",
    "\n",
    "ml3_client.show_jobs()\n",
    "\n",
    "logger.info(f'Waiting job completion')\n",
    "ml3_client.wait_job_completion(job_id=job_id)\n",
    "logger.info(f'Job completed')\n",
    "\n",
    "logger.info(f'Get retraining report')\n",
    "retraining_report = ml3_client.get_retraining_report(model_id=model_id)\n",
    "\n",
    "logger.info(f'Retraining Report: {retraining_report}')"
   ]
  },
  {
   "cell_type": "markdown",
   "id": "2ab07371-f738-48f5-ab42-2f77db1924a2",
   "metadata": {},
   "source": [
    "**Retrain your model and upload the update to the ML cube Platform**\n",
    "\n",
    "When you receive the retraining report, you can retrain the model with the importance weights we provided you. Afterward, you need to notify the creation of the new version of the model to the ML cube Platform."
   ]
  },
  {
   "cell_type": "code",
   "execution_count": null,
   "id": "31746d27-8408-47ba-9a69-2bcf89c4d8ae",
   "metadata": {},
   "outputs": [],
   "source": [
    "logger.info(\"API - Show suggestions\")\n",
    "ml3_client.show_suggestions(model_id=model_id, model_version=model_version)\n",
    "\n",
    "logger.info(f'API - Update model version from suggestion id')\n",
    "new_model_version = 'v0.0.2'\n",
    "job_id = ml3_client.update_model_version_by_suggestion_id(\n",
    "    model_id=model_id,\n",
    "    new_model_version=new_model_version,\n",
    "    suggestion_id=retraining_report.suggestion.suggestion_id,\n",
    ")\n",
    "\n",
    "logger.info(f'Job created, id {job_id}')\n",
    "\n",
    "logger.info(f'Waiting job completion')\n",
    "ml3_client.wait_job_completion(job_id=job_id)\n",
    "logger.info(f'Job completed')"
   ]
  },
  {
   "cell_type": "markdown",
   "id": "7aa5af50-add0-4e8e-8bee-5ff370640ee0",
   "metadata": {},
   "source": [
    "**Congratulations!**\n",
    "\n",
    "In this notebook, you learned how to create a detection automation rule, add production data, even at different times, check the model status and ask a retraining report if a drift was detected."
   ]
  }
 ],
 "metadata": {
  "kernelspec": {
   "display_name": "Python 3 (ipykernel)",
   "language": "python",
   "name": "python3"
  },
  "language_info": {
   "codemirror_mode": {
    "name": "ipython",
    "version": 3
   },
   "file_extension": ".py",
   "mimetype": "text/x-python",
   "name": "python",
   "nbconvert_exporter": "python",
   "pygments_lexer": "ipython3",
   "version": "3.8.18"
  }
 },
 "nbformat": 4,
 "nbformat_minor": 5
}
