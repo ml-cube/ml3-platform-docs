{
 "cells": [
  {
   "cell_type": "markdown",
   "id": "cd068398-0196-4ee1-be02-bed49f777964",
   "metadata": {},
   "source": [
    "# Simple example - Synth Regression Dataset"
   ]
  },
  {
   "cell_type": "code",
   "execution_count": null,
   "id": "3a45a3a5-b1c2-41ac-9f6d-83efd6e725b5",
   "metadata": {},
   "outputs": [],
   "source": [
    "import os\n",
    "import math\n",
    "import time\n",
    "from datetime import datetime\n",
    "\n",
    "import pandas as pd\n",
    "import numpy as np\n",
    "\n",
    "import matplotlib.pyplot as plt\n",
    "\n",
    "from sklearn.preprocessing import StandardScaler\n",
    "from sklearn.linear_model import Ridge\n",
    "from sklearn.metrics import mean_squared_error, r2_score"
   ]
  },
  {
   "cell_type": "code",
   "execution_count": null,
   "id": "b9df94c4-8bf5-489d-94a4-5c07159f50fb",
   "metadata": {
    "tags": []
   },
   "outputs": [],
   "source": [
    "cd .."
   ]
  },
  {
   "cell_type": "code",
   "execution_count": null,
   "id": "e29e276b-6a33-442c-88cf-58d7b62e914e",
   "metadata": {},
   "outputs": [],
   "source": [
    "from generators.synth_regression_generator import SynthRegressionGenerator\n",
    "from generators.utils import DriftType\n",
    "\n",
    "from ml3_platform_sdk.client import ML3PlatformClient\n",
    "from ml3_platform_sdk.enums import DatasetType, TaskType"
   ]
  },
  {
   "cell_type": "code",
   "execution_count": null,
   "id": "9bfea38f-175c-44c9-b43a-2594eea339e1",
   "metadata": {},
   "outputs": [],
   "source": [
    "cd notebooks"
   ]
  },
  {
   "cell_type": "markdown",
   "id": "d67a2563-eb90-4df4-8ecd-1e2b138001a8",
   "metadata": {},
   "source": [
    "# Parameters and settings"
   ]
  },
  {
   "cell_type": "code",
   "execution_count": null,
   "id": "b41da4ba-29b3-487c-8799-d4bf1aa8f44a",
   "metadata": {},
   "outputs": [],
   "source": [
    "# === ML3 PLATFORM SETTINGS ===\n",
    "\n",
    "API_KEY = ''\n",
    "URL = ''\n",
    "\n",
    "\n",
    "COMPANY_ID = '' # OPTIONAL, just if you already created a company\n",
    "\n",
    "# === MODEL ===\n",
    "\n",
    "TARGET_MODEL = Ridge()\n",
    "MODEL_NAME = 'Ridge'\n",
    "MODEL_VERSION = 'V1.0'\n",
    "\n",
    "# === DATA PARAMETERS ===\n",
    "\n",
    "HISTORICAL_DATA_SAMPLES = 2000\n",
    "REFERENCE_DATA_SAMPLES = 1000\n",
    "PRODUCTION_DATA_SAMPLES = 2000\n",
    "\n",
    "# === GENERATOR PARAMETERS ===\n",
    "\n",
    "SEED = 42\n",
    "N_FEATURES = 7\n",
    "COV_LOWER_VALUE = 0.2\n",
    "COV_UPPER_VALUE = 0.6\n",
    "\n",
    "# === NON STATIONARITY ===\n",
    "\n",
    "# type of drift to inject in production data\n",
    "DRIFT_TYPE = DriftType.ABRUPT\n",
    "\n",
    "# define the start position of the drift\n",
    "# expressed as production sample number\n",
    "# e.g 1000 => The drift will start after 1000 production samples\n",
    "DRIFT_POSITION = 1000\n",
    "\n",
    "# duration of the drift (considered only for INCREMENTAL drifts)\n",
    "DRIFT_DURATION = 100\n",
    "\n",
    "# Define the entity of the change\n",
    "# Must be a value between (0,1)\n",
    "# Lower the value less the impact on the task\n",
    "DRIFT_LEVEL = 0.5\n"
   ]
  },
  {
   "cell_type": "code",
   "execution_count": null,
   "id": "7cb60648-750a-4f86-8fae-8e161f26a7ee",
   "metadata": {},
   "outputs": [],
   "source": [
    "assert 0 < DRIFT_POSITION < PRODUCTION_DATA_SAMPLES"
   ]
  },
  {
   "cell_type": "markdown",
   "id": "db23b021-d389-42d4-92e6-89cf52e85809",
   "metadata": {},
   "source": [
    "## Dataset Generation"
   ]
  },
  {
   "cell_type": "markdown",
   "id": "f6d0e008-2931-4dc6-9556-3c26143416a3",
   "metadata": {},
   "source": [
    "This dataset is generated from a multivariate gaussian distribution of n dimensions with random initialization.\n",
    "\n",
    "The regression task consists in predicting one of the eight values that each sample contains given the other n-1 as features. The drift is introduced by applying a rotation around one of the n axes of the covariance matrix. The rotation angle θ is subject to random noise and the rotation axis is chosen randomly."
   ]
  },
  {
   "cell_type": "code",
   "execution_count": null,
   "id": "0ce68219-162d-43ae-91dc-1fe21f179362",
   "metadata": {},
   "outputs": [],
   "source": [
    "data_folder = './data/'\n",
    "\n",
    "if not os.path.exists(data_folder):\n",
    "    os.makedirs(data_folder)"
   ]
  },
  {
   "cell_type": "code",
   "execution_count": null,
   "id": "8d516507-87a9-4f73-89ad-82812848fe5f",
   "metadata": {},
   "outputs": [],
   "source": [
    "generator = SynthRegressionGenerator(n_features=N_FEATURES, seed=42)"
   ]
  },
  {
   "cell_type": "code",
   "execution_count": null,
   "id": "332a1eec-4fef-4ac9-9176-3cef0472e171",
   "metadata": {},
   "outputs": [],
   "source": [
    "# Historical Data\n",
    "generator.generate(HISTORICAL_DATA_SAMPLES).to_csv(os.path.join(data_folder, 'historical.csv'), index=False)\n",
    "# Reference Data\n",
    "generator.generate(REFERENCE_DATA_SAMPLES).to_csv(os.path.join(data_folder, 'reference.csv'), index=False)\n",
    "# First test set\n",
    "generator.generate(int(REFERENCE_DATA_SAMPLES/4)).to_csv(os.path.join(data_folder, 'test_0.csv'), index=False)"
   ]
  },
  {
   "cell_type": "code",
   "execution_count": null,
   "id": "4fc74cb1-a348-41e7-9017-dcef7a696f6b",
   "metadata": {},
   "outputs": [],
   "source": [
    "# Production Data\n",
    "\n",
    "before_drift_df = generator.generate(DRIFT_POSITION)\n",
    "\n",
    "if DRIFT_TYPE == DriftType.ABRUPT:\n",
    "    generator.add_abrupt_drift(\n",
    "        theta=(math.pi/2)*DRIFT_LEVEL\n",
    "    )\n",
    "elif DRIFT_TYPE == DriftType.INCREMENTAL:\n",
    "    generator.add_incremental_drift(\n",
    "        theta=(math.pi/2)*DRIFT_LEVEL,\n",
    "        duration=DRIFT_DURATION\n",
    "    )\n",
    "\n",
    "after_drift_df = generator.generate(PRODUCTION_DATA_SAMPLES-DRIFT_POSITION)\n",
    "\n",
    "\n",
    "pd.concat([before_drift_df,after_drift_df]).to_csv(os.path.join(data_folder, 'production.csv'), index=False)"
   ]
  },
  {
   "cell_type": "code",
   "execution_count": null,
   "id": "404af428-7146-45aa-9b51-7217bfa70685",
   "metadata": {},
   "outputs": [],
   "source": [
    "# Second test set\n",
    "generator.generate(int(REFERENCE_DATA_SAMPLES/4)).to_csv(os.path.join(data_folder, 'test_1.csv'), index=False)"
   ]
  },
  {
   "cell_type": "markdown",
   "id": "a124155b-d42c-4e70-a944-589ec507ec39",
   "metadata": {},
   "source": [
    "# Train a Model on generated data"
   ]
  },
  {
   "cell_type": "code",
   "execution_count": null,
   "id": "2d943dda-dc6b-49ea-a671-1c02d52b53f6",
   "metadata": {},
   "outputs": [],
   "source": [
    "training_df = pd.read_csv(os.path.join(data_folder, 'reference.csv'), index_col='sample-id')"
   ]
  },
  {
   "cell_type": "code",
   "execution_count": null,
   "id": "548062dc-c9de-4a87-ab84-51ba8f9c282a",
   "metadata": {},
   "outputs": [],
   "source": [
    "training_df.head()"
   ]
  },
  {
   "cell_type": "code",
   "execution_count": null,
   "id": "7b52a326-ae1d-455c-a3e1-66a4f7c2cc15",
   "metadata": {},
   "outputs": [],
   "source": [
    "# Define input and output columns\n",
    "input_cols = ['X_'+str(i) for i in range(N_FEATURES)]\n",
    "output_cols = ['y_0']"
   ]
  },
  {
   "cell_type": "markdown",
   "id": "9837e048-c3e9-4d79-821a-2d1cdf4e7655",
   "metadata": {},
   "source": [
    "## Model Development"
   ]
  },
  {
   "cell_type": "code",
   "execution_count": null,
   "id": "4f008162-bec3-47d8-8c97-2585623e2653",
   "metadata": {},
   "outputs": [],
   "source": [
    "input_scaler = StandardScaler()\n",
    "x_train = input_scaler.fit_transform(training_df[input_cols])\n",
    "\n",
    "output_scaler = StandardScaler()\n",
    "y_train = output_scaler.fit_transform(training_df[output_cols])"
   ]
  },
  {
   "cell_type": "code",
   "execution_count": null,
   "id": "4147b18f-37bf-4d20-9585-b2080e7910cc",
   "metadata": {},
   "outputs": [],
   "source": [
    "model = TARGET_MODEL\n",
    "model.fit(x_train, y_train)"
   ]
  },
  {
   "cell_type": "markdown",
   "id": "322ec55f-1e03-4c46-a41f-04c3f0aa289a",
   "metadata": {
    "tags": []
   },
   "source": [
    "### Evaluate model performance"
   ]
  },
  {
   "cell_type": "code",
   "execution_count": null,
   "id": "64442e45-2da0-42b6-bd03-a83e5e37dfa5",
   "metadata": {},
   "outputs": [],
   "source": [
    "test_df = pd.read_csv(os.path.join(data_folder, 'test_0.csv'))"
   ]
  },
  {
   "cell_type": "code",
   "execution_count": null,
   "id": "396c53cc-8577-48fe-a08a-87f839eb623e",
   "metadata": {
    "tags": []
   },
   "outputs": [],
   "source": [
    "x_test = input_scaler.transform(test_df[input_cols])\n",
    "predictions = model.predict(x_test)\n",
    "predictions = output_scaler.inverse_transform(predictions)"
   ]
  },
  {
   "cell_type": "code",
   "execution_count": null,
   "id": "49c7221b-e1f2-4ffb-a3a7-74cf13c9b750",
   "metadata": {},
   "outputs": [],
   "source": [
    "print(\"MSE: \", mean_squared_error(test_df[output_cols], predictions))\n",
    "print(\"R2: \", r2_score(test_df[output_cols], predictions))"
   ]
  },
  {
   "cell_type": "markdown",
   "id": "cbfaa2d6-7bbd-4e98-b5d3-c98e6a9d91a5",
   "metadata": {
    "tags": []
   },
   "source": [
    "## Register the model into ML cube Platform"
   ]
  },
  {
   "cell_type": "code",
   "execution_count": null,
   "id": "f0ea5990-7765-4e19-ac0c-da6b6e39c665",
   "metadata": {},
   "outputs": [],
   "source": [
    "# Initialize the client\n",
    "client = ML3PlatformClient(\n",
    "        api_key=API_KEY,\n",
    "        url=URL,\n",
    "    )"
   ]
  },
  {
   "cell_type": "code",
   "execution_count": null,
   "id": "f650c879-2a80-4062-9328-00c15687b615",
   "metadata": {},
   "outputs": [],
   "source": [
    "# Create a company\n",
    "# NOTE only if not already done\n",
    "company_id = client.create_company(name='my company', address='my address', vat='my vat')"
   ]
  },
  {
   "cell_type": "code",
   "execution_count": null,
   "id": "6a529543-8d5a-450f-8a2a-2e283602ee71",
   "metadata": {
    "tags": []
   },
   "outputs": [],
   "source": [
    "# Create project and get the project identifier\n",
    "# NOTE only if not already done\n",
    "project_id = client.create_project(company_id='64b12a5ef393ab4885ad90b7', name='my project test 53')"
   ]
  },
  {
   "cell_type": "code",
   "execution_count": null,
   "id": "51707c76-64e8-4021-87b9-67e8c53e16e3",
   "metadata": {},
   "outputs": [],
   "source": [
    "# Create a task for our experiment\n",
    "task_id = client.create_task(\n",
    "    project_id=project_id,\n",
    "    name='my task',\n",
    "    tags=['aperitech', 'example'],\n",
    "    task_type=TaskType.REGRESSION\n",
    ")"
   ]
  },
  {
   "cell_type": "code",
   "execution_count": null,
   "id": "fab88651-35a8-4065-a4fa-a08a7e5c63ba",
   "metadata": {},
   "outputs": [],
   "source": [
    "data_schema = generator.get_dataschema()"
   ]
  },
  {
   "cell_type": "code",
   "execution_count": null,
   "id": "b506d8de-61b9-41d1-8607-d583ab843551",
   "metadata": {},
   "outputs": [],
   "source": [
    "client.add_data_schema(task_id=task_id, data_schema=data_schema)"
   ]
  },
  {
   "cell_type": "code",
   "execution_count": null,
   "id": "d31ef121-8cff-4baf-8d20-3e8b793a6fde",
   "metadata": {},
   "outputs": [],
   "source": [
    "# Double check that the data schema is correct\n",
    "client.show_data_schema(task_id=task_id)"
   ]
  },
  {
   "cell_type": "code",
   "execution_count": null,
   "id": "c76c1b71-627b-4312-81c6-94887cdf9a7b",
   "metadata": {},
   "outputs": [],
   "source": [
    "# Add historical data\n",
    "client.add_historical_data(\n",
    "    task_id=task_id,\n",
    "    dataset_type=DatasetType.TABULAR,\n",
    "    data_path=os.path.join(data_folder, 'historical.csv')\n",
    ")"
   ]
  },
  {
   "cell_type": "code",
   "execution_count": null,
   "id": "920d9601-6c39-4dbf-b1fc-aa25d8eed6bd",
   "metadata": {},
   "outputs": [],
   "source": [
    "# Check the running job\n",
    "client.show_running_operations(task_id=task_id)"
   ]
  },
  {
   "cell_type": "code",
   "execution_count": null,
   "id": "4c0266fe-573d-44be-8eea-a583431f3e6a",
   "metadata": {},
   "outputs": [],
   "source": [
    "# Create the model\n",
    "model_id = client.create_model(\n",
    "    project_id=project_id,\n",
    "    task_id=task_id,\n",
    "    name=MODEL_NAME,\n",
    "    version=MODEL_VERSION\n",
    ")"
   ]
  },
  {
   "cell_type": "code",
   "execution_count": null,
   "id": "ec56626e-cb31-4754-b942-c3282ccba37e",
   "metadata": {},
   "outputs": [],
   "source": [
    "client.add_model_reference(\n",
    "    project_id=project_id,\n",
    "    task_id=task_id,\n",
    "    model_id=model_id,\n",
    "    dataset_type=DatasetType.TABULAR,\n",
    "    data_path=os.path.join(data_folder, 'reference.csv')\n",
    ")"
   ]
  },
  {
   "cell_type": "code",
   "execution_count": null,
   "id": "e558fbdd-6661-4508-8907-1d9a5e7f5226",
   "metadata": {},
   "outputs": [],
   "source": [
    "# Check the running job\n",
    "client.show_running_operations(task_id=task_id)"
   ]
  },
  {
   "cell_type": "markdown",
   "id": "147c7739-b1af-4bec-af42-6855aabc2a51",
   "metadata": {},
   "source": [
    "## Simulate arrival of new production data"
   ]
  },
  {
   "cell_type": "code",
   "execution_count": null,
   "id": "33432bd0-a954-4947-8035-8ca175cccecb",
   "metadata": {},
   "outputs": [],
   "source": [
    "def make_predictions(model, model_name, model_version, input_scaler, output_scaler, production_batch) -> pd.DataFrame:\n",
    "    \"\"\"\n",
    "    This function apply our model to a given production batch.\n",
    "    It returns a dataframe with the given data and a column with model predictions\n",
    "    \"\"\"\n",
    "    x_production = input_scaler.transform(production_batch[input_cols])\n",
    "    predictions = model.predict(x_production)\n",
    "    predictions = output_scaler.inverse_transform(predictions)\n",
    "    \n",
    "    # here we assign the right name to the column that will contain the predictions\n",
    "    # the standard to follow is MODEL_NAME@MODEL_VERSION\n",
    "    # example: Ridge@V1.0\n",
    "    predictions_column_name = '@'.join([model_name, model_version])\n",
    "    \n",
    "    scored_production_dataframe = production_batch.copy()\n",
    "    scored_production_dataframe[predictions_column_name] = predictions\n",
    "    return scored_production_dataframe"
   ]
  },
  {
   "cell_type": "code",
   "execution_count": null,
   "id": "4fd2e094-99c0-4078-9d38-69838952ac66",
   "metadata": {},
   "outputs": [],
   "source": [
    "production_df = pd.read_csv(os.path.join(data_folder, 'production.csv'), index_col='sample-id')"
   ]
  },
  {
   "cell_type": "code",
   "execution_count": null,
   "id": "71ad8ea6-aaef-409e-b09a-c38362e86ae2",
   "metadata": {},
   "outputs": [],
   "source": [
    "scored_production = make_predictions(model, MODEL_NAME, MODEL_VERSION, input_scaler, output_scaler, production_df)"
   ]
  },
  {
   "cell_type": "code",
   "execution_count": null,
   "id": "03b2119c-ffcb-4cff-aebb-61a58fa7a30d",
   "metadata": {},
   "outputs": [],
   "source": [
    "# Save the production data batch with predictions\n",
    "scored_production.to_csv(os.path.join(data_folder, 'scored_production.csv'))"
   ]
  },
  {
   "cell_type": "code",
   "execution_count": null,
   "id": "9994413a-7652-48b7-80fa-3a7979b2ef9f",
   "metadata": {},
   "outputs": [],
   "source": [
    "# Send the new production to ML cube Platform"
   ]
  },
  {
   "cell_type": "code",
   "execution_count": null,
   "id": "3839e2e0-5a0c-4ba0-8054-859a895b4fda",
   "metadata": {},
   "outputs": [],
   "source": [
    "client.add_production_data(\n",
    "    task_id=task_id,\n",
    "    dataset_type=DatasetType.TABULAR,\n",
    "    data_path=os.path.join(data_folder, 'scored_production.csv')\n",
    ")"
   ]
  },
  {
   "cell_type": "code",
   "execution_count": null,
   "id": "f0eb3f7a-11f5-4300-b2de-6c5fe3a2df5a",
   "metadata": {},
   "outputs": [],
   "source": [
    "# Check the running job\n",
    "client.show_running_operations(task_id=task_id)"
   ]
  },
  {
   "cell_type": "markdown",
   "id": "bd713f82-c6dc-4ffb-b616-73fccf820c2d",
   "metadata": {},
   "source": [
    "## When finished, check if a drift has been identified"
   ]
  },
  {
   "cell_type": "code",
   "execution_count": null,
   "id": "a7bf1f51-038a-4578-93f7-a9a091ebf7c6",
   "metadata": {},
   "outputs": [],
   "source": [
    "# Check the status of the models in your task\n",
    "client.show_models(task_id)"
   ]
  },
  {
   "cell_type": "code",
   "execution_count": null,
   "id": "fa473521-b6dc-4efc-ac2c-c386e31a7d92",
   "metadata": {},
   "outputs": [],
   "source": [
    "prediction_errors = scored_production['y_0'] - scored_production['@'.join([MODEL_NAME, MODEL_VERSION])]"
   ]
  },
  {
   "cell_type": "code",
   "execution_count": null,
   "id": "026a5702-dc45-412f-8638-c655c4ae89b9",
   "metadata": {},
   "outputs": [],
   "source": [
    "# Lets plot the residuals to see how the drift impacted on our model\n",
    "plt.figure(figsize=(25, 5))\n",
    "plt.plot(prediction_errors)\n",
    "plt.show()"
   ]
  },
  {
   "cell_type": "markdown",
   "id": "687ccbe9-a4ee-4825-a4ce-c570ba721d12",
   "metadata": {},
   "source": [
    "## Get the sample weights to retrain our Model"
   ]
  },
  {
   "cell_type": "code",
   "execution_count": null,
   "id": "59f6ab7a-10e7-4dfe-b422-1a6348cb5690",
   "metadata": {},
   "outputs": [],
   "source": [
    "# Retrieve ids and weights to build a new training set\n",
    "ids, weights = client.get_importance_weights(task_id=task_id, model_id=model_id, model_version=MODEL_VERSION)"
   ]
  },
  {
   "cell_type": "code",
   "execution_count": null,
   "id": "4ed1c096-089f-4892-9b6d-f5fed689a920",
   "metadata": {},
   "outputs": [],
   "source": [
    "ids, weights = client.get_importance_weights(task_id=task_id, model_id=model_id, model_version=MODEL_VERSION)"
   ]
  },
  {
   "cell_type": "code",
   "execution_count": null,
   "id": "2a988bdb-c960-4683-b0de-9f00ba3c7137",
   "metadata": {},
   "outputs": [],
   "source": [
    "# The suggestion includes 5000 ids with sample weights\n",
    "len(ids)"
   ]
  },
  {
   "cell_type": "code",
   "execution_count": null,
   "id": "438547e6-6228-462b-9abf-9c7ead6b6992",
   "metadata": {},
   "outputs": [],
   "source": [
    "# Concatenate available data\n",
    "historical_df = pd.read_csv(os.path.join(data_folder, 'historical.csv'), index_col='sample-id')\n",
    "\n",
    "available_data = pd.concat([historical_df, training_df, production_df])"
   ]
  },
  {
   "cell_type": "code",
   "execution_count": null,
   "id": "4ba35710-4baf-4f62-b38f-3747fa1b9a90",
   "metadata": {},
   "outputs": [],
   "source": [
    "input_scaler = StandardScaler()\n",
    "new_x_train = input_scaler.fit_transform(available_data.loc[ids][input_cols])\n",
    "\n",
    "output_scaler = StandardScaler()\n",
    "new_y_train = output_scaler.fit_transform(available_data.loc[ids][output_cols])"
   ]
  },
  {
   "cell_type": "code",
   "execution_count": null,
   "id": "1de4bbe6-b6e3-488c-8f00-0ba38315ec46",
   "metadata": {},
   "outputs": [],
   "source": [
    "new_model = Ridge()\n",
    "new_model.fit(new_x_train, new_y_train, sample_weight=weights)"
   ]
  },
  {
   "cell_type": "markdown",
   "id": "d60a3175-3c40-4b54-a44e-f342a3c3c784",
   "metadata": {
    "tags": []
   },
   "source": [
    "## Evaluate the retrained model"
   ]
  },
  {
   "cell_type": "code",
   "execution_count": null,
   "id": "dcda866c-7e15-4554-887b-2d344c5af60c",
   "metadata": {},
   "outputs": [],
   "source": [
    "new_test_df = pd.read_csv(os.path.join(data_folder, 'test_1.csv'))"
   ]
  },
  {
   "cell_type": "code",
   "execution_count": null,
   "id": "e12d5d54-8727-45cf-abc9-141e23c1cf9a",
   "metadata": {
    "tags": []
   },
   "outputs": [],
   "source": [
    "x_test = input_scaler.transform(new_test_df[input_cols])\n",
    "predictions = new_model.predict(x_test)\n",
    "predictions = output_scaler.inverse_transform(predictions)"
   ]
  },
  {
   "cell_type": "code",
   "execution_count": null,
   "id": "8c766284-6a2e-41d8-acd7-466419b81ac5",
   "metadata": {},
   "outputs": [],
   "source": [
    "print(\"MSE: \", mean_squared_error(new_test_df[output_cols], predictions))\n",
    "print(\"R2: \", r2_score(new_test_df[output_cols], predictions))"
   ]
  },
  {
   "cell_type": "code",
   "execution_count": null,
   "id": "4730af11-1190-4451-ab87-9b435f3c02ec",
   "metadata": {},
   "outputs": [],
   "source": []
  }
 ],
 "metadata": {
  "kernelspec": {
   "display_name": "Python 3 (ipykernel)",
   "language": "python",
   "name": "python3"
  },
  "language_info": {
   "codemirror_mode": {
    "name": "ipython",
    "version": 3
   },
   "file_extension": ".py",
   "mimetype": "text/x-python",
   "name": "python",
   "nbconvert_exporter": "python",
   "pygments_lexer": "ipython3",
   "version": "3.8.13"
  }
 },
 "nbformat": 4,
 "nbformat_minor": 5
}
